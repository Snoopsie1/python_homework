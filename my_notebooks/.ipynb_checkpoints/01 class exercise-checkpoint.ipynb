{
 "cells": [
  {
   "cell_type": "markdown",
   "id": "a0771ddb-9be0-43c4-a1cf-a825c3059ca5",
   "metadata": {},
   "source": [
    "# Class Exercise 1\n",
    "![](https://miro.medium.com/max/1266/1*Pb8oEA1nGIONsSJk7QSVzg.png)"
   ]
  },
  {
   "cell_type": "code",
   "execution_count": 2,
   "id": "4c62769d-8e9e-4524-971b-7181df77dc97",
   "metadata": {},
   "outputs": [
    {
     "name": "stdin",
     "output_type": "stream",
     "text": [
      "Hi User, write something please. assgrass\n"
     ]
    },
    {
     "name": "stdout",
     "output_type": "stream",
     "text": [
      "Assgrass\n"
     ]
    }
   ],
   "source": [
    "user_input = input(\"Hi User, write something please.\")\n",
    "print(user_input.title())"
   ]
  }
 ],
 "metadata": {
  "kernelspec": {
   "display_name": "Python 3 (ipykernel)",
   "language": "python",
   "name": "python3"
  },
  "language_info": {
   "codemirror_mode": {
    "name": "ipython",
    "version": 3
   },
   "file_extension": ".py",
   "mimetype": "text/x-python",
   "name": "python",
   "nbconvert_exporter": "python",
   "pygments_lexer": "ipython3",
   "version": "3.10.6"
  }
 },
 "nbformat": 4,
 "nbformat_minor": 5
}
