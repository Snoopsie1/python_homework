{
 "cells": [
  {
   "cell_type": "code",
   "execution_count": 118,
   "outputs": [
    {
     "data": {
      "text/plain": "             id                                               name   host_id  \\\n0          2539                 Clean & quiet apt home by the park      2787   \n1          2595                              Skylit Midtown Castle      2845   \n2          3647                THE VILLAGE OF HARLEM....NEW YORK !      4632   \n3          3831                    Cozy Entire Floor of Brownstone      4869   \n4          5022   Entire Apt: Spacious Studio/Loft by central park      7192   \n...         ...                                                ...       ...   \n48890  36484665    Charming one bedroom - newly renovated rowhouse   8232441   \n48891  36485057      Affordable room in Bushwick/East Williamsburg   6570630   \n48892  36485431            Sunny Studio at Historical Neighborhood  23492952   \n48893  36485609               43rd St. Time Square-cozy single bed  30985759   \n48894  36487245  Trendy duplex in the very heart of Hell's Kitchen  68119814   \n\n           host_name neighbourhood_group       neighbourhood  latitude  \\\n0               John            Brooklyn          Kensington  40.64749   \n1           Jennifer           Manhattan             Midtown  40.75362   \n2          Elisabeth           Manhattan              Harlem  40.80902   \n3        LisaRoxanne            Brooklyn        Clinton Hill  40.68514   \n4              Laura           Manhattan         East Harlem  40.79851   \n...              ...                 ...                 ...       ...   \n48890        Sabrina            Brooklyn  Bedford-Stuyvesant  40.67853   \n48891        Marisol            Brooklyn            Bushwick  40.70184   \n48892  Ilgar & Aysel           Manhattan              Harlem  40.81475   \n48893            Taz           Manhattan      Hell's Kitchen  40.75751   \n48894     Christophe           Manhattan      Hell's Kitchen  40.76404   \n\n       longitude        room_type  price  minimum_nights  number_of_reviews  \\\n0      -73.97237     Private room    149               1                  9   \n1      -73.98377  Entire home/apt    225               1                 45   \n2      -73.94190     Private room    150               3                  0   \n3      -73.95976  Entire home/apt     89               1                270   \n4      -73.94399  Entire home/apt     80              10                  9   \n...          ...              ...    ...             ...                ...   \n48890  -73.94995     Private room     70               2                  0   \n48891  -73.93317     Private room     40               4                  0   \n48892  -73.94867  Entire home/apt    115              10                  0   \n48893  -73.99112      Shared room     55               1                  0   \n48894  -73.98933     Private room     90               7                  0   \n\n      last_review  reviews_per_month  calculated_host_listings_count  \\\n0      2018-10-19               0.21                               6   \n1      2019-05-21               0.38                               2   \n2             NaN                NaN                               1   \n3      2019-07-05               4.64                               1   \n4      2018-11-19               0.10                               1   \n...           ...                ...                             ...   \n48890         NaN                NaN                               2   \n48891         NaN                NaN                               2   \n48892         NaN                NaN                               1   \n48893         NaN                NaN                               6   \n48894         NaN                NaN                               1   \n\n       availability_365  isCheap  \n0                   365    False  \n1                   355    False  \n2                   365    False  \n3                   194     True  \n4                     0     True  \n...                 ...      ...  \n48890                 9     True  \n48891                36     True  \n48892                27    False  \n48893                 2     True  \n48894                23     True  \n\n[48895 rows x 17 columns]",
      "text/html": "<div>\n<style scoped>\n    .dataframe tbody tr th:only-of-type {\n        vertical-align: middle;\n    }\n\n    .dataframe tbody tr th {\n        vertical-align: top;\n    }\n\n    .dataframe thead th {\n        text-align: right;\n    }\n</style>\n<table border=\"1\" class=\"dataframe\">\n  <thead>\n    <tr style=\"text-align: right;\">\n      <th></th>\n      <th>id</th>\n      <th>name</th>\n      <th>host_id</th>\n      <th>host_name</th>\n      <th>neighbourhood_group</th>\n      <th>neighbourhood</th>\n      <th>latitude</th>\n      <th>longitude</th>\n      <th>room_type</th>\n      <th>price</th>\n      <th>minimum_nights</th>\n      <th>number_of_reviews</th>\n      <th>last_review</th>\n      <th>reviews_per_month</th>\n      <th>calculated_host_listings_count</th>\n      <th>availability_365</th>\n      <th>isCheap</th>\n    </tr>\n  </thead>\n  <tbody>\n    <tr>\n      <th>0</th>\n      <td>2539</td>\n      <td>Clean &amp; quiet apt home by the park</td>\n      <td>2787</td>\n      <td>John</td>\n      <td>Brooklyn</td>\n      <td>Kensington</td>\n      <td>40.64749</td>\n      <td>-73.97237</td>\n      <td>Private room</td>\n      <td>149</td>\n      <td>1</td>\n      <td>9</td>\n      <td>2018-10-19</td>\n      <td>0.21</td>\n      <td>6</td>\n      <td>365</td>\n      <td>False</td>\n    </tr>\n    <tr>\n      <th>1</th>\n      <td>2595</td>\n      <td>Skylit Midtown Castle</td>\n      <td>2845</td>\n      <td>Jennifer</td>\n      <td>Manhattan</td>\n      <td>Midtown</td>\n      <td>40.75362</td>\n      <td>-73.98377</td>\n      <td>Entire home/apt</td>\n      <td>225</td>\n      <td>1</td>\n      <td>45</td>\n      <td>2019-05-21</td>\n      <td>0.38</td>\n      <td>2</td>\n      <td>355</td>\n      <td>False</td>\n    </tr>\n    <tr>\n      <th>2</th>\n      <td>3647</td>\n      <td>THE VILLAGE OF HARLEM....NEW YORK !</td>\n      <td>4632</td>\n      <td>Elisabeth</td>\n      <td>Manhattan</td>\n      <td>Harlem</td>\n      <td>40.80902</td>\n      <td>-73.94190</td>\n      <td>Private room</td>\n      <td>150</td>\n      <td>3</td>\n      <td>0</td>\n      <td>NaN</td>\n      <td>NaN</td>\n      <td>1</td>\n      <td>365</td>\n      <td>False</td>\n    </tr>\n    <tr>\n      <th>3</th>\n      <td>3831</td>\n      <td>Cozy Entire Floor of Brownstone</td>\n      <td>4869</td>\n      <td>LisaRoxanne</td>\n      <td>Brooklyn</td>\n      <td>Clinton Hill</td>\n      <td>40.68514</td>\n      <td>-73.95976</td>\n      <td>Entire home/apt</td>\n      <td>89</td>\n      <td>1</td>\n      <td>270</td>\n      <td>2019-07-05</td>\n      <td>4.64</td>\n      <td>1</td>\n      <td>194</td>\n      <td>True</td>\n    </tr>\n    <tr>\n      <th>4</th>\n      <td>5022</td>\n      <td>Entire Apt: Spacious Studio/Loft by central park</td>\n      <td>7192</td>\n      <td>Laura</td>\n      <td>Manhattan</td>\n      <td>East Harlem</td>\n      <td>40.79851</td>\n      <td>-73.94399</td>\n      <td>Entire home/apt</td>\n      <td>80</td>\n      <td>10</td>\n      <td>9</td>\n      <td>2018-11-19</td>\n      <td>0.10</td>\n      <td>1</td>\n      <td>0</td>\n      <td>True</td>\n    </tr>\n    <tr>\n      <th>...</th>\n      <td>...</td>\n      <td>...</td>\n      <td>...</td>\n      <td>...</td>\n      <td>...</td>\n      <td>...</td>\n      <td>...</td>\n      <td>...</td>\n      <td>...</td>\n      <td>...</td>\n      <td>...</td>\n      <td>...</td>\n      <td>...</td>\n      <td>...</td>\n      <td>...</td>\n      <td>...</td>\n      <td>...</td>\n    </tr>\n    <tr>\n      <th>48890</th>\n      <td>36484665</td>\n      <td>Charming one bedroom - newly renovated rowhouse</td>\n      <td>8232441</td>\n      <td>Sabrina</td>\n      <td>Brooklyn</td>\n      <td>Bedford-Stuyvesant</td>\n      <td>40.67853</td>\n      <td>-73.94995</td>\n      <td>Private room</td>\n      <td>70</td>\n      <td>2</td>\n      <td>0</td>\n      <td>NaN</td>\n      <td>NaN</td>\n      <td>2</td>\n      <td>9</td>\n      <td>True</td>\n    </tr>\n    <tr>\n      <th>48891</th>\n      <td>36485057</td>\n      <td>Affordable room in Bushwick/East Williamsburg</td>\n      <td>6570630</td>\n      <td>Marisol</td>\n      <td>Brooklyn</td>\n      <td>Bushwick</td>\n      <td>40.70184</td>\n      <td>-73.93317</td>\n      <td>Private room</td>\n      <td>40</td>\n      <td>4</td>\n      <td>0</td>\n      <td>NaN</td>\n      <td>NaN</td>\n      <td>2</td>\n      <td>36</td>\n      <td>True</td>\n    </tr>\n    <tr>\n      <th>48892</th>\n      <td>36485431</td>\n      <td>Sunny Studio at Historical Neighborhood</td>\n      <td>23492952</td>\n      <td>Ilgar &amp; Aysel</td>\n      <td>Manhattan</td>\n      <td>Harlem</td>\n      <td>40.81475</td>\n      <td>-73.94867</td>\n      <td>Entire home/apt</td>\n      <td>115</td>\n      <td>10</td>\n      <td>0</td>\n      <td>NaN</td>\n      <td>NaN</td>\n      <td>1</td>\n      <td>27</td>\n      <td>False</td>\n    </tr>\n    <tr>\n      <th>48893</th>\n      <td>36485609</td>\n      <td>43rd St. Time Square-cozy single bed</td>\n      <td>30985759</td>\n      <td>Taz</td>\n      <td>Manhattan</td>\n      <td>Hell's Kitchen</td>\n      <td>40.75751</td>\n      <td>-73.99112</td>\n      <td>Shared room</td>\n      <td>55</td>\n      <td>1</td>\n      <td>0</td>\n      <td>NaN</td>\n      <td>NaN</td>\n      <td>6</td>\n      <td>2</td>\n      <td>True</td>\n    </tr>\n    <tr>\n      <th>48894</th>\n      <td>36487245</td>\n      <td>Trendy duplex in the very heart of Hell's Kitchen</td>\n      <td>68119814</td>\n      <td>Christophe</td>\n      <td>Manhattan</td>\n      <td>Hell's Kitchen</td>\n      <td>40.76404</td>\n      <td>-73.98933</td>\n      <td>Private room</td>\n      <td>90</td>\n      <td>7</td>\n      <td>0</td>\n      <td>NaN</td>\n      <td>NaN</td>\n      <td>1</td>\n      <td>23</td>\n      <td>True</td>\n    </tr>\n  </tbody>\n</table>\n<p>48895 rows × 17 columns</p>\n</div>"
     },
     "execution_count": 118,
     "metadata": {},
     "output_type": "execute_result"
    }
   ],
   "source": [
    "# TODO: 1) Use these imports\n",
    "import pandas as pd\n",
    "import numpy as np\n",
    "from sklearn.preprocessing import StandardScaler, LabelBinarizer\n",
    "from sklearn.model_selection import train_test_split\n",
    "from sklearn.neighbors import KNeighborsClassifier\n",
    "from sklearn.metrics import auc, roc_curve, confusion_matrix\n",
    "from sklearn.metrics import accuracy_score\n",
    "\n",
    "# TODO: 2)\n",
    "#  Get the data into a pandas dataframe\n",
    "data = pd.read_csv(\"../../data/AB_NYC_2019.csv\", sep=\",\")\n",
    "\n",
    "# TODO: 3)\n",
    "#  Add a column to the dataframe: “is_cheap”,\n",
    "#  that contains boolean values for the price being below median.\n",
    "#  Hint: DataFrame has a median() method. This column contains our target data: y\n",
    "data[\"isCheap\"] = data.price < data.price.median()\n",
    "data"
   ],
   "metadata": {
    "collapsed": false,
    "pycharm": {
     "name": "#%%\n"
    }
   }
  },
  {
   "cell_type": "code",
   "execution_count": 119,
   "outputs": [
    {
     "data": {
      "text/plain": "       longitude  latitude\n0      -73.97237  40.64749\n1      -73.98377  40.75362\n2      -73.94190  40.80902\n3      -73.95976  40.68514\n4      -73.94399  40.79851\n...          ...       ...\n48890  -73.94995  40.67853\n48891  -73.93317  40.70184\n48892  -73.94867  40.81475\n48893  -73.99112  40.75751\n48894  -73.98933  40.76404\n\n[48895 rows x 2 columns]",
      "text/html": "<div>\n<style scoped>\n    .dataframe tbody tr th:only-of-type {\n        vertical-align: middle;\n    }\n\n    .dataframe tbody tr th {\n        vertical-align: top;\n    }\n\n    .dataframe thead th {\n        text-align: right;\n    }\n</style>\n<table border=\"1\" class=\"dataframe\">\n  <thead>\n    <tr style=\"text-align: right;\">\n      <th></th>\n      <th>longitude</th>\n      <th>latitude</th>\n    </tr>\n  </thead>\n  <tbody>\n    <tr>\n      <th>0</th>\n      <td>-73.97237</td>\n      <td>40.64749</td>\n    </tr>\n    <tr>\n      <th>1</th>\n      <td>-73.98377</td>\n      <td>40.75362</td>\n    </tr>\n    <tr>\n      <th>2</th>\n      <td>-73.94190</td>\n      <td>40.80902</td>\n    </tr>\n    <tr>\n      <th>3</th>\n      <td>-73.95976</td>\n      <td>40.68514</td>\n    </tr>\n    <tr>\n      <th>4</th>\n      <td>-73.94399</td>\n      <td>40.79851</td>\n    </tr>\n    <tr>\n      <th>...</th>\n      <td>...</td>\n      <td>...</td>\n    </tr>\n    <tr>\n      <th>48890</th>\n      <td>-73.94995</td>\n      <td>40.67853</td>\n    </tr>\n    <tr>\n      <th>48891</th>\n      <td>-73.93317</td>\n      <td>40.70184</td>\n    </tr>\n    <tr>\n      <th>48892</th>\n      <td>-73.94867</td>\n      <td>40.81475</td>\n    </tr>\n    <tr>\n      <th>48893</th>\n      <td>-73.99112</td>\n      <td>40.75751</td>\n    </tr>\n    <tr>\n      <th>48894</th>\n      <td>-73.98933</td>\n      <td>40.76404</td>\n    </tr>\n  </tbody>\n</table>\n<p>48895 rows × 2 columns</p>\n</div>"
     },
     "execution_count": 119,
     "metadata": {},
     "output_type": "execute_result"
    }
   ],
   "source": [
    "# TODO: 4)\n",
    "#  Create a Classifier model with KNeighborsClassifier()\n",
    "#  and give it an arbitrary number for the n_neighbors argument\n",
    "classifier = KNeighborsClassifier(n_neighbors=10)\n",
    "\n",
    "# TODO: 5) Create input data: X as a DataFrame containing only longitude and latitude.\n",
    "lat_lon_data = { \"longitude\": data.longitude,\n",
    "                 \"latitude\": data.latitude}\n",
    "X = pd.DataFrame(lat_lon_data)\n",
    "y = data.isCheap\n",
    "X"
   ],
   "metadata": {
    "collapsed": false,
    "pycharm": {
     "name": "#%%\n"
    }
   }
  },
  {
   "cell_type": "code",
   "execution_count": 120,
   "outputs": [
    {
     "data": {
      "text/plain": "69.86241943480417"
     },
     "execution_count": 120,
     "metadata": {},
     "output_type": "execute_result"
    }
   ],
   "source": [
    "# TODO: 6) Based on X and y above, split data into training\n",
    "#  and test data using train_test_split() method with 33% test data.\n",
    "X_train, X_test, y_train, y_test = train_test_split(\n",
    "             X, y, test_size = 0.33, random_state=42)\n",
    "\n",
    "# TODO: 7) Fit the model with the training data. Hint: knn_class.fit(X_train, y_train)\n",
    "classifier.fit(X_train, y_train)\n",
    "\n",
    "# TODO: 8) And make predictions with the test data. Hint: knn_class.predict(X_test)\n",
    "y_pred = classifier.predict(X_test)\n",
    "accuracy = accuracy_score(y_test, y_pred) * 100\n",
    "# Accuracy Score\n",
    "accuracy"
   ],
   "metadata": {
    "collapsed": false,
    "pycharm": {
     "name": "#%%\n"
    }
   }
  },
  {
   "cell_type": "code",
   "execution_count": 121,
   "outputs": [
    {
     "data": {
      "text/plain": "0.6987299270173918"
     },
     "execution_count": 121,
     "metadata": {},
     "output_type": "execute_result"
    }
   ],
   "source": [
    "# TODO: 9) Now we have our target and our predictions, and we need to compare them to see how well our model have done. For this we ca use the roc_curve method like this: fpr, tpr, _ = roc_curve(y_test, y_pred, pos_label=True) where pos_label lets the algorithm know that our data uses boolean in the target column. This gives us the True Positive Rate (TPR) and the False Positive Rate (FPR). ROC Curve works by plotting the fraction of true positives out of the positives (TPR = true positive rate) vs. the fraction of false positives out of the negatives (FPR = false positive rate), at various threshold settings. Finally, we use the auc(fpr,tpr) function to get an AUC_Score (This score is 1 when the model had 100% correct predictions and less than 1 for less perfect accuracy score. The result should be around .7 which is not a great prediction accuracy rate, but its a start and we can try to improve it by adding more data features to the model.\n",
    "fpr, tpr, _ = roc_curve(y_test, y_pred, pos_label=True)\n",
    "auc(fpr,tpr)"
   ],
   "metadata": {
    "collapsed": false,
    "pycharm": {
     "name": "#%%\n"
    }
   }
  },
  {
   "cell_type": "code",
   "execution_count": 123,
   "outputs": [
    {
     "data": {
      "text/plain": "             id                                               name   host_id  \\\n0          2539                 Clean & quiet apt home by the park      2787   \n1          2595                              Skylit Midtown Castle      2845   \n2          3647                THE VILLAGE OF HARLEM....NEW YORK !      4632   \n3          3831                    Cozy Entire Floor of Brownstone      4869   \n4          5022   Entire Apt: Spacious Studio/Loft by central park      7192   \n...         ...                                                ...       ...   \n48890  36484665    Charming one bedroom - newly renovated rowhouse   8232441   \n48891  36485057      Affordable room in Bushwick/East Williamsburg   6570630   \n48892  36485431            Sunny Studio at Historical Neighborhood  23492952   \n48893  36485609               43rd St. Time Square-cozy single bed  30985759   \n48894  36487245  Trendy duplex in the very heart of Hell's Kitchen  68119814   \n\n           host_name  latitude  longitude  price  minimum_nights  \\\n0               John  40.64749  -73.97237    149               1   \n1           Jennifer  40.75362  -73.98377    225               1   \n2          Elisabeth  40.80902  -73.94190    150               3   \n3        LisaRoxanne  40.68514  -73.95976     89               1   \n4              Laura  40.79851  -73.94399     80              10   \n...              ...       ...        ...    ...             ...   \n48890        Sabrina  40.67853  -73.94995     70               2   \n48891        Marisol  40.70184  -73.93317     40               4   \n48892  Ilgar & Aysel  40.81475  -73.94867    115              10   \n48893            Taz  40.75751  -73.99112     55               1   \n48894     Christophe  40.76404  -73.98933     90               7   \n\n       number_of_reviews last_review  ...  neighbourhood_Woodrow  \\\n0                      9  2018-10-19  ...                      0   \n1                     45  2019-05-21  ...                      0   \n2                      0         NaN  ...                      0   \n3                    270  2019-07-05  ...                      0   \n4                      9  2018-11-19  ...                      0   \n...                  ...         ...  ...                    ...   \n48890                  0         NaN  ...                      0   \n48891                  0         NaN  ...                      0   \n48892                  0         NaN  ...                      0   \n48893                  0         NaN  ...                      0   \n48894                  0         NaN  ...                      0   \n\n       neighbourhood_Woodside  neighbourhood_group_Bronx  \\\n0                           0                          0   \n1                           0                          0   \n2                           0                          0   \n3                           0                          0   \n4                           0                          0   \n...                       ...                        ...   \n48890                       0                          0   \n48891                       0                          0   \n48892                       0                          0   \n48893                       0                          0   \n48894                       0                          0   \n\n       neighbourhood_group_Brooklyn  neighbourhood_group_Manhattan  \\\n0                                 1                              0   \n1                                 0                              1   \n2                                 0                              1   \n3                                 1                              0   \n4                                 0                              1   \n...                             ...                            ...   \n48890                             1                              0   \n48891                             1                              0   \n48892                             0                              1   \n48893                             0                              1   \n48894                             0                              1   \n\n       neighbourhood_group_Queens  neighbourhood_group_Staten Island  \\\n0                               0                                  0   \n1                               0                                  0   \n2                               0                                  0   \n3                               0                                  0   \n4                               0                                  0   \n...                           ...                                ...   \n48890                           0                                  0   \n48891                           0                                  0   \n48892                           0                                  0   \n48893                           0                                  0   \n48894                           0                                  0   \n\n       room_type_Entire home/apt  room_type_Private room  \\\n0                              0                       1   \n1                              1                       0   \n2                              0                       1   \n3                              1                       0   \n4                              1                       0   \n...                          ...                     ...   \n48890                          0                       1   \n48891                          0                       1   \n48892                          1                       0   \n48893                          0                       0   \n48894                          0                       1   \n\n       room_type_Shared room  \n0                          0  \n1                          0  \n2                          0  \n3                          0  \n4                          0  \n...                      ...  \n48890                      0  \n48891                      0  \n48892                      0  \n48893                      1  \n48894                      0  \n\n[48895 rows x 243 columns]",
      "text/html": "<div>\n<style scoped>\n    .dataframe tbody tr th:only-of-type {\n        vertical-align: middle;\n    }\n\n    .dataframe tbody tr th {\n        vertical-align: top;\n    }\n\n    .dataframe thead th {\n        text-align: right;\n    }\n</style>\n<table border=\"1\" class=\"dataframe\">\n  <thead>\n    <tr style=\"text-align: right;\">\n      <th></th>\n      <th>id</th>\n      <th>name</th>\n      <th>host_id</th>\n      <th>host_name</th>\n      <th>latitude</th>\n      <th>longitude</th>\n      <th>price</th>\n      <th>minimum_nights</th>\n      <th>number_of_reviews</th>\n      <th>last_review</th>\n      <th>...</th>\n      <th>neighbourhood_Woodrow</th>\n      <th>neighbourhood_Woodside</th>\n      <th>neighbourhood_group_Bronx</th>\n      <th>neighbourhood_group_Brooklyn</th>\n      <th>neighbourhood_group_Manhattan</th>\n      <th>neighbourhood_group_Queens</th>\n      <th>neighbourhood_group_Staten Island</th>\n      <th>room_type_Entire home/apt</th>\n      <th>room_type_Private room</th>\n      <th>room_type_Shared room</th>\n    </tr>\n  </thead>\n  <tbody>\n    <tr>\n      <th>0</th>\n      <td>2539</td>\n      <td>Clean &amp; quiet apt home by the park</td>\n      <td>2787</td>\n      <td>John</td>\n      <td>40.64749</td>\n      <td>-73.97237</td>\n      <td>149</td>\n      <td>1</td>\n      <td>9</td>\n      <td>2018-10-19</td>\n      <td>...</td>\n      <td>0</td>\n      <td>0</td>\n      <td>0</td>\n      <td>1</td>\n      <td>0</td>\n      <td>0</td>\n      <td>0</td>\n      <td>0</td>\n      <td>1</td>\n      <td>0</td>\n    </tr>\n    <tr>\n      <th>1</th>\n      <td>2595</td>\n      <td>Skylit Midtown Castle</td>\n      <td>2845</td>\n      <td>Jennifer</td>\n      <td>40.75362</td>\n      <td>-73.98377</td>\n      <td>225</td>\n      <td>1</td>\n      <td>45</td>\n      <td>2019-05-21</td>\n      <td>...</td>\n      <td>0</td>\n      <td>0</td>\n      <td>0</td>\n      <td>0</td>\n      <td>1</td>\n      <td>0</td>\n      <td>0</td>\n      <td>1</td>\n      <td>0</td>\n      <td>0</td>\n    </tr>\n    <tr>\n      <th>2</th>\n      <td>3647</td>\n      <td>THE VILLAGE OF HARLEM....NEW YORK !</td>\n      <td>4632</td>\n      <td>Elisabeth</td>\n      <td>40.80902</td>\n      <td>-73.94190</td>\n      <td>150</td>\n      <td>3</td>\n      <td>0</td>\n      <td>NaN</td>\n      <td>...</td>\n      <td>0</td>\n      <td>0</td>\n      <td>0</td>\n      <td>0</td>\n      <td>1</td>\n      <td>0</td>\n      <td>0</td>\n      <td>0</td>\n      <td>1</td>\n      <td>0</td>\n    </tr>\n    <tr>\n      <th>3</th>\n      <td>3831</td>\n      <td>Cozy Entire Floor of Brownstone</td>\n      <td>4869</td>\n      <td>LisaRoxanne</td>\n      <td>40.68514</td>\n      <td>-73.95976</td>\n      <td>89</td>\n      <td>1</td>\n      <td>270</td>\n      <td>2019-07-05</td>\n      <td>...</td>\n      <td>0</td>\n      <td>0</td>\n      <td>0</td>\n      <td>1</td>\n      <td>0</td>\n      <td>0</td>\n      <td>0</td>\n      <td>1</td>\n      <td>0</td>\n      <td>0</td>\n    </tr>\n    <tr>\n      <th>4</th>\n      <td>5022</td>\n      <td>Entire Apt: Spacious Studio/Loft by central park</td>\n      <td>7192</td>\n      <td>Laura</td>\n      <td>40.79851</td>\n      <td>-73.94399</td>\n      <td>80</td>\n      <td>10</td>\n      <td>9</td>\n      <td>2018-11-19</td>\n      <td>...</td>\n      <td>0</td>\n      <td>0</td>\n      <td>0</td>\n      <td>0</td>\n      <td>1</td>\n      <td>0</td>\n      <td>0</td>\n      <td>1</td>\n      <td>0</td>\n      <td>0</td>\n    </tr>\n    <tr>\n      <th>...</th>\n      <td>...</td>\n      <td>...</td>\n      <td>...</td>\n      <td>...</td>\n      <td>...</td>\n      <td>...</td>\n      <td>...</td>\n      <td>...</td>\n      <td>...</td>\n      <td>...</td>\n      <td>...</td>\n      <td>...</td>\n      <td>...</td>\n      <td>...</td>\n      <td>...</td>\n      <td>...</td>\n      <td>...</td>\n      <td>...</td>\n      <td>...</td>\n      <td>...</td>\n      <td>...</td>\n    </tr>\n    <tr>\n      <th>48890</th>\n      <td>36484665</td>\n      <td>Charming one bedroom - newly renovated rowhouse</td>\n      <td>8232441</td>\n      <td>Sabrina</td>\n      <td>40.67853</td>\n      <td>-73.94995</td>\n      <td>70</td>\n      <td>2</td>\n      <td>0</td>\n      <td>NaN</td>\n      <td>...</td>\n      <td>0</td>\n      <td>0</td>\n      <td>0</td>\n      <td>1</td>\n      <td>0</td>\n      <td>0</td>\n      <td>0</td>\n      <td>0</td>\n      <td>1</td>\n      <td>0</td>\n    </tr>\n    <tr>\n      <th>48891</th>\n      <td>36485057</td>\n      <td>Affordable room in Bushwick/East Williamsburg</td>\n      <td>6570630</td>\n      <td>Marisol</td>\n      <td>40.70184</td>\n      <td>-73.93317</td>\n      <td>40</td>\n      <td>4</td>\n      <td>0</td>\n      <td>NaN</td>\n      <td>...</td>\n      <td>0</td>\n      <td>0</td>\n      <td>0</td>\n      <td>1</td>\n      <td>0</td>\n      <td>0</td>\n      <td>0</td>\n      <td>0</td>\n      <td>1</td>\n      <td>0</td>\n    </tr>\n    <tr>\n      <th>48892</th>\n      <td>36485431</td>\n      <td>Sunny Studio at Historical Neighborhood</td>\n      <td>23492952</td>\n      <td>Ilgar &amp; Aysel</td>\n      <td>40.81475</td>\n      <td>-73.94867</td>\n      <td>115</td>\n      <td>10</td>\n      <td>0</td>\n      <td>NaN</td>\n      <td>...</td>\n      <td>0</td>\n      <td>0</td>\n      <td>0</td>\n      <td>0</td>\n      <td>1</td>\n      <td>0</td>\n      <td>0</td>\n      <td>1</td>\n      <td>0</td>\n      <td>0</td>\n    </tr>\n    <tr>\n      <th>48893</th>\n      <td>36485609</td>\n      <td>43rd St. Time Square-cozy single bed</td>\n      <td>30985759</td>\n      <td>Taz</td>\n      <td>40.75751</td>\n      <td>-73.99112</td>\n      <td>55</td>\n      <td>1</td>\n      <td>0</td>\n      <td>NaN</td>\n      <td>...</td>\n      <td>0</td>\n      <td>0</td>\n      <td>0</td>\n      <td>0</td>\n      <td>1</td>\n      <td>0</td>\n      <td>0</td>\n      <td>0</td>\n      <td>0</td>\n      <td>1</td>\n    </tr>\n    <tr>\n      <th>48894</th>\n      <td>36487245</td>\n      <td>Trendy duplex in the very heart of Hell's Kitchen</td>\n      <td>68119814</td>\n      <td>Christophe</td>\n      <td>40.76404</td>\n      <td>-73.98933</td>\n      <td>90</td>\n      <td>7</td>\n      <td>0</td>\n      <td>NaN</td>\n      <td>...</td>\n      <td>0</td>\n      <td>0</td>\n      <td>0</td>\n      <td>0</td>\n      <td>1</td>\n      <td>0</td>\n      <td>0</td>\n      <td>0</td>\n      <td>1</td>\n      <td>0</td>\n    </tr>\n  </tbody>\n</table>\n<p>48895 rows × 243 columns</p>\n</div>"
     },
     "execution_count": 123,
     "metadata": {},
     "output_type": "execute_result"
    }
   ],
   "source": [
    "\n",
    "# TODO: 10.1) First we need to One-Hot encode the data of 3 columns:[‘neighbourhood’,‘neighbourhood_group’,‘room_type’].\n",
    "#  Hint: Use pandas get_dummies method (see example in the clustering with titanic notebook.\n",
    "neighbourhood_dict = {\"id\": data.id,\n",
    "                      \"neighbourhood\": data.neighbourhood,\n",
    "                      \"neighbourhood_group\": data.neighbourhood_group,\n",
    "                      \"room_type\": data.room_type}\n",
    "neighbourhood_data = pd.DataFrame(neighbourhood_dict)\n",
    "OHE_data = pd.get_dummies(data,columns=['neighbourhood', 'neighbourhood_group', 'room_type'])\n",
    "# TODO: 10.2) With these new columns in the dataframe do the train_test_split operation again\n",
    "#  to get 33% test data and 67% training data for both input data X and target/labels y.\n",
    "X = OHE_data\n",
    "X"
   ],
   "metadata": {
    "collapsed": false,
    "pycharm": {
     "name": "#%%\n"
    }
   }
  },
  {
   "cell_type": "code",
   "execution_count": null,
   "outputs": [],
   "source": [
    "# TODO: 10.3) Normalize both training and test data with StandardScaler.\n",
    "#  Hint: StandardScaler().fit(X_train[independent_variables])\n",
    "#  where independent_variables is a list of all the columns we want to use in the model\n",
    "#  (There are many so a quick way to get the names of those columns that we One-Hot encoded is by using a list comprehension like this: [col for col in df if col.startswith('neighbourhood') or col.startswith('room_type')].\n",
    "#  Then just add the 'latitude', 'longitude','number_of_reviews' and 'reviews_per_month' columns.\n",
    "\n",
    "independent_values = [col for col in OHE_data if col.startswith(\"neighbourhood\") or col.startswith(\"room_type\")]\n",
    "independent_values.append(data.latitude.name)\n",
    "independent_values.append(data.longitude.name)\n",
    "independent_values.append(data.number_of_reviews.name)\n",
    "independent_values.append(data.reviews_per_month.name)\n",
    "\n",
    "X_train, X_test, y_train, y_test = train_test_split(X, y, test_size=0.33,  train_size=0.67, random_state=42)\n",
    "\n",
    "scaler = StandardScaler()\n",
    "scaler.fit(X_train[independent_values])\n",
    "\n",
    "# TODO: 10.4) Now get the normalized training data with something like: X_train_norm = np.nan_to_num(scaler.transform(X_train[independent_variables])) where np.nan_to_num() is used to swap NAN for zeros.\n",
    "X_train_norm = np.nan_to_num(scaler.transform(X_train[independent_values]))\n",
    "\n",
    "# TODO: 10.5) Do the same with the test data\n",
    "X_test_norm = np.nan_to_num(scaler.transform(X_test[independent_values]))\n",
    "\n",
    "# TODO: 10.6) Now create a KNeighborsClassifier model like last time and fit it with the training data and the training targets\n",
    "kn_classifier = KNeighborsClassifier(n_neighbors=10)\n",
    "kn_classifier.fit(X_train_norm, y_train)\n",
    "\n",
    "# TODO: 10.7 ) Get predictions on the test data and produce the AUC score like last time. Is it improved?\n",
    "y_pred = classifier.predict(X_test_norm)\n",
    "fpr, tpr, threshold = roc_curve(y_test, y_pred, pos_label=True)\n",
    "print(auc(fpr, tpr))"
   ],
   "metadata": {
    "collapsed": false,
    "pycharm": {
     "name": "#%%\n"
    }
   }
  }
 ],
 "metadata": {
  "kernelspec": {
   "display_name": "Python 3",
   "language": "python",
   "name": "python3"
  },
  "language_info": {
   "codemirror_mode": {
    "name": "ipython",
    "version": 2
   },
   "file_extension": ".py",
   "mimetype": "text/x-python",
   "name": "python",
   "nbconvert_exporter": "python",
   "pygments_lexer": "ipython2",
   "version": "2.7.6"
  }
 },
 "nbformat": 4,
 "nbformat_minor": 0
}